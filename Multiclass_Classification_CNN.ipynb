{
 "cells": [
  {
   "cell_type": "code",
   "execution_count": 196,
   "metadata": {},
   "outputs": [],
   "source": [
    "import numpy as np \n",
    "import pandas as pd\n",
    "import matplotlib.pyplot as plt\n",
    "import seaborn as sns\n",
    "import os\n",
    "import math\n",
    "import cv2\n",
    "from PIL import Image\n",
    "from scipy import misc\n",
    "from os import listdir\n",
    "from os.path import isfile, join\n",
    "from collections import Counter\n",
    "import matplotlib.pyplot as plt\n",
    "import tensorflow as tf"
   ]
  },
  {
   "cell_type": "code",
   "execution_count": 197,
   "metadata": {},
   "outputs": [],
   "source": [
    "from keras.models import Sequential\n",
    "from keras.layers import Conv2D\n",
    "from keras.layers import MaxPooling2D\n",
    "from keras.layers import Flatten,LeakyReLU\n",
    "from keras.layers import Dense,Dropout,BatchNormalization"
   ]
  },
  {
   "cell_type": "code",
   "execution_count": 203,
   "metadata": {},
   "outputs": [],
   "source": [
    "classifier = Sequential()\n",
    "\n",
    "# Step 1 - Convolution\n",
    "classifier.add(Conv2D(filters=64, kernel_size=2, padding='same', activation='relu', input_shape=(64,64,3)))\n",
    "classifier.add(BatchNormalization())\n",
    "\n",
    "# Step 2 - Pooling\n",
    "classifier.add(MaxPooling2D(pool_size = (2, 2)))\n",
    "classifier.add(BatchNormalization())\n",
    "\n",
    "# Adding a second convolutional layer\n",
    "classifier.add(Conv2D(filters=32,kernel_size=2,padding='same',activation='tanh'))\n",
    "classifier.add(MaxPooling2D(pool_size =(2,2)))\n",
    "classifier.add(BatchNormalization())\n",
    "\n",
    "\n",
    "# Adding a third convolutional layer\n",
    "classifier.add(Conv2D(filters=16,kernel_size=2,padding='same',activation='tanh'))\n",
    "classifier.add(MaxPooling2D(pool_size = (2, 2)))\n",
    "classifier.add(BatchNormalization())\n",
    "\n",
    "# Step 3 - Flattening\n",
    "classifier.add(Flatten())\n",
    "\n",
    "# Step 4 - Full connection\n",
    "classifier.add(Dense(units=32,activation = 'tanh'))\n",
    "classifier.add(Dense(units=64,activation = 'tanh'))\n",
    "classifier.add(Dropout(0.5))\n",
    "classifier.add(Dense(units=128,activation = 'tanh'))\n",
    "classifier.add(Dropout(0.5))\n",
    "classifier.add(Dense(units=256,activation = 'tanh'))\n",
    "classifier.add(Dropout(0.5))\n",
    "classifier.add(Dense(units = 8,activation = 'softmax'))"
   ]
  },
  {
   "cell_type": "code",
   "execution_count": 204,
   "metadata": {},
   "outputs": [],
   "source": [
    "from keras import optimizers\n",
    "classifier.compile(optimizer = 'adam', loss =['categorical_crossentropy'],metrics=['accuracy'])"
   ]
  },
  {
   "cell_type": "code",
   "execution_count": 205,
   "metadata": {},
   "outputs": [
    {
     "name": "stdout",
     "output_type": "stream",
     "text": [
      "\n",
      "Training the data...\n",
      "\n",
      "Found 18896 images belonging to 8 classes.\n",
      "Found 2702 images belonging to 8 classes.\n"
     ]
    }
   ],
   "source": [
    "from keras.preprocessing.image import ImageDataGenerator\n",
    "\n",
    "train_datagen = ImageDataGenerator(rescale = 1./255,\n",
    "                                   shear_range = 0.2,\n",
    "                                   zoom_range = 0.2,\n",
    "                                   horizontal_flip = True)\n",
    "test_datagen =  ImageDataGenerator(rescale = 1./255)\n",
    "\n",
    "print(\"\\nTraining the data...\\n\")\n",
    "\n",
    "training_set = train_datagen.flow_from_directory(r'C:\\Users\\sathe\\Satheesh_SK\\No_Need\\Sample_Data\\Training',\n",
    "                                                 target_size = (64, 64),\n",
    "                                                 batch_size = 12,\n",
    "                                                 class_mode = 'categorical')\n",
    "\n",
    "\n",
    "test_set = test_datagen.flow_from_directory(r'C:\\Users\\sathe\\Satheesh_SK\\No_Need\\Sample_Data\\Testing',\n",
    "                                            target_size = (64, 64),\n",
    "                                            batch_size = 12,\n",
    "                                            class_mode = 'categorical')"
   ]
  },
  {
   "cell_type": "code",
   "execution_count": 206,
   "metadata": {},
   "outputs": [
    {
     "data": {
      "text/plain": [
       "(18896, 8)"
      ]
     },
     "execution_count": 206,
     "metadata": {},
     "output_type": "execute_result"
    }
   ],
   "source": [
    "train_samples = len(training_set.filenames) \n",
    "num_classes = len(training_set.class_indices)\n",
    "train_samples,num_classes"
   ]
  },
  {
   "cell_type": "code",
   "execution_count": 207,
   "metadata": {},
   "outputs": [
    {
     "name": "stdout",
     "output_type": "stream",
     "text": [
      "Epoch 1/20\n",
      "600/600 [==============================] - 106s 173ms/step - loss: 2.0241 - accuracy: 0.2819 - val_loss: 2.7956 - val_accuracy: 0.1533\n",
      "Epoch 2/20\n",
      "600/600 [==============================] - 104s 173ms/step - loss: 1.6053 - accuracy: 0.4286 - val_loss: 2.9753 - val_accuracy: 0.2183\n",
      "Epoch 3/20\n",
      "600/600 [==============================] - 105s 175ms/step - loss: 1.4151 - accuracy: 0.4854 - val_loss: 3.0527 - val_accuracy: 0.2283\n",
      "Epoch 4/20\n",
      "600/600 [==============================] - 105s 174ms/step - loss: 1.3534 - accuracy: 0.5063 - val_loss: 2.8244 - val_accuracy: 0.3217\n",
      "Epoch 5/20\n",
      "600/600 [==============================] - 105s 175ms/step - loss: 1.3052 - accuracy: 0.5270 - val_loss: 2.8567 - val_accuracy: 0.2883\n",
      "Epoch 6/20\n",
      "600/600 [==============================] - 107s 178ms/step - loss: 1.2654 - accuracy: 0.5356 - val_loss: 2.9574 - val_accuracy: 0.3483\n",
      "Epoch 7/20\n",
      "600/600 [==============================] - 110s 183ms/step - loss: 1.2453 - accuracy: 0.5323 - val_loss: 3.1121 - val_accuracy: 0.2300\n",
      "Epoch 8/20\n",
      "600/600 [==============================] - 109s 181ms/step - loss: 1.2226 - accuracy: 0.5425 - val_loss: 3.0959 - val_accuracy: 0.2100\n",
      "Epoch 9/20\n",
      "600/600 [==============================] - 106s 177ms/step - loss: 1.1915 - accuracy: 0.5444 - val_loss: 3.0579 - val_accuracy: 0.2850\n",
      "Epoch 10/20\n",
      "600/600 [==============================] - 104s 174ms/step - loss: 1.2159 - accuracy: 0.5450 - val_loss: 3.0251 - val_accuracy: 0.3350\n",
      "Epoch 11/20\n",
      "600/600 [==============================] - 105s 175ms/step - loss: 1.1568 - accuracy: 0.5677 - val_loss: 2.9927 - val_accuracy: 0.2800\n",
      "Epoch 12/20\n",
      "600/600 [==============================] - 104s 174ms/step - loss: 1.1518 - accuracy: 0.5637 - val_loss: 3.4435 - val_accuracy: 0.2200\n",
      "Epoch 13/20\n",
      "600/600 [==============================] - 104s 172ms/step - loss: 1.1195 - accuracy: 0.5670 - val_loss: 2.9826 - val_accuracy: 0.3650\n",
      "Epoch 14/20\n",
      "600/600 [==============================] - 104s 173ms/step - loss: 1.1491 - accuracy: 0.5598 - val_loss: 3.0926 - val_accuracy: 0.3267\n",
      "Epoch 15/20\n",
      "600/600 [==============================] - 106s 177ms/step - loss: 1.1183 - accuracy: 0.5691 - val_loss: 3.1952 - val_accuracy: 0.2517\n",
      "Epoch 16/20\n",
      "600/600 [==============================] - 82s 136ms/step - loss: 1.1216 - accuracy: 0.5867 - val_loss: 2.9124 - val_accuracy: 0.2267\n",
      "Epoch 17/20\n",
      "600/600 [==============================] - 70s 117ms/step - loss: 1.0985 - accuracy: 0.5735 - val_loss: 3.0532 - val_accuracy: 0.3017\n",
      "Epoch 18/20\n",
      "600/600 [==============================] - 68s 113ms/step - loss: 1.1187 - accuracy: 0.5862 - val_loss: 3.0883 - val_accuracy: 0.2950\n",
      "Epoch 19/20\n",
      "600/600 [==============================] - 68s 114ms/step - loss: 1.1153 - accuracy: 0.5729 - val_loss: 2.7335 - val_accuracy: 0.3600\n",
      "Epoch 20/20\n",
      "600/600 [==============================] - 76s 126ms/step - loss: 1.1202 - accuracy: 0.5739 - val_loss: 2.8594 - val_accuracy: 0.3183\n"
     ]
    }
   ],
   "source": [
    "model = classifier.fit_generator(training_set,\n",
    "                                 steps_per_epoch=600,\n",
    "                                 epochs = 20,\n",
    "                                 validation_data = test_set,    \n",
    "                                 validation_steps = 50)"
   ]
  },
  {
   "cell_type": "code",
   "execution_count": 215,
   "metadata": {},
   "outputs": [],
   "source": [
    "classifier.save('multiclass_model.h5')"
   ]
  },
  {
   "cell_type": "code",
   "execution_count": 216,
   "metadata": {},
   "outputs": [
    {
     "name": "stdout",
     "output_type": "stream",
     "text": [
      "Model: \"sequential_24\"\n",
      "_________________________________________________________________\n",
      "Layer (type)                 Output Shape              Param #   \n",
      "=================================================================\n",
      "conv2d_85 (Conv2D)           (None, 64, 64, 64)        832       \n",
      "_________________________________________________________________\n",
      "batch_normalization_26 (Batc (None, 64, 64, 64)        256       \n",
      "_________________________________________________________________\n",
      "max_pooling2d_74 (MaxPooling (None, 32, 32, 64)        0         \n",
      "_________________________________________________________________\n",
      "batch_normalization_27 (Batc (None, 32, 32, 64)        256       \n",
      "_________________________________________________________________\n",
      "conv2d_86 (Conv2D)           (None, 32, 32, 32)        8224      \n",
      "_________________________________________________________________\n",
      "max_pooling2d_75 (MaxPooling (None, 16, 16, 32)        0         \n",
      "_________________________________________________________________\n",
      "batch_normalization_28 (Batc (None, 16, 16, 32)        128       \n",
      "_________________________________________________________________\n",
      "conv2d_87 (Conv2D)           (None, 16, 16, 16)        2064      \n",
      "_________________________________________________________________\n",
      "max_pooling2d_76 (MaxPooling (None, 8, 8, 16)          0         \n",
      "_________________________________________________________________\n",
      "batch_normalization_29 (Batc (None, 8, 8, 16)          64        \n",
      "_________________________________________________________________\n",
      "flatten_24 (Flatten)         (None, 1024)              0         \n",
      "_________________________________________________________________\n",
      "dense_132 (Dense)            (None, 32)                32800     \n",
      "_________________________________________________________________\n",
      "dense_133 (Dense)            (None, 64)                2112      \n",
      "_________________________________________________________________\n",
      "dropout_103 (Dropout)        (None, 64)                0         \n",
      "_________________________________________________________________\n",
      "dense_134 (Dense)            (None, 128)               8320      \n",
      "_________________________________________________________________\n",
      "dropout_104 (Dropout)        (None, 128)               0         \n",
      "_________________________________________________________________\n",
      "dense_135 (Dense)            (None, 256)               33024     \n",
      "_________________________________________________________________\n",
      "dropout_105 (Dropout)        (None, 256)               0         \n",
      "_________________________________________________________________\n",
      "dense_136 (Dense)            (None, 8)                 2056      \n",
      "=================================================================\n",
      "Total params: 90,136\n",
      "Trainable params: 89,784\n",
      "Non-trainable params: 352\n",
      "_________________________________________________________________\n"
     ]
    }
   ],
   "source": [
    "classifier.summary()"
   ]
  },
  {
   "cell_type": "code",
   "execution_count": 212,
   "metadata": {},
   "outputs": [
    {
     "data": {
      "image/png": "[encoded data removed]",
      "text/plain": [
       "<Figure size 432x288 with 1 Axes>"
      ]
     },
     "metadata": {
      "needs_background": "light"
     },
     "output_type": "display_data"
    }
   ],
   "source": [
    "history = model\n",
    "plt.plot(history.history['loss'])\n",
    "plt.plot(history.history['val_loss'])\n",
    "plt.title('model accuracy')\n",
    "plt.ylabel('accuracy')\n",
    "plt.xlabel('epoch')\n",
    "plt.title('Training and validation loss')\n",
    "plt.legend(['train_loss', 'val_loss'], loc='upper right')\n",
    "plt.show()"
   ]
  },
  {
   "cell_type": "code",
   "execution_count": 213,
   "metadata": {},
   "outputs": [
    {
     "data": {
      "image/png": "[encoded data removed]",
      "text/plain": [
       "<Figure size 432x288 with 1 Axes>"
      ]
     },
     "metadata": {
      "needs_background": "light"
     },
     "output_type": "display_data"
    }
   ],
   "source": [
    "history = model\n",
    "plt.plot(history.history['accuracy'])\n",
    "plt.plot(history.history['val_accuracy'])\n",
    "plt.title('model accuracy')\n",
    "plt.ylabel('accuracy')\n",
    "plt.xlabel('epoch')\n",
    "plt.title('Training and validation accuracy')\n",
    "plt.legend(['train_Acc', 'val_acc'], loc='upper right')\n",
    "plt.show()"
   ]
  },
  {
   "cell_type": "code",
   "execution_count": 214,
   "metadata": {},
   "outputs": [
    {
     "name": "stdout",
     "output_type": "stream",
     "text": [
      "226/226 [==============================] - 5s 20ms/step - loss: 2.9145 - accuracy: 0.3116\n"
     ]
    }
   ],
   "source": [
    "(eval_loss, eval_accuracy) = classifier.evaluate(test_set, batch_size=50,verbose=1)"
   ]
  },
  {
   "attachments": {},
   "cell_type": "markdown",
   "metadata": {},
   "source": []
  }
 ],
 "metadata": {
  "kernelspec": {
   "display_name": "Python 3",
   "language": "python",
   "name": "python3"
  }
 },
 "nbformat": 4,
 "nbformat_minor": 4
}
