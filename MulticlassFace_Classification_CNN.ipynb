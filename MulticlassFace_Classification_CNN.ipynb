{
 "cells": [
  {
   "cell_type": "code",
   "execution_count": 7,
   "metadata": {},
   "outputs": [],
   "source": [
    "import numpy as np \n",
    "import pandas as pd\n",
    "import matplotlib.pyplot as plt\n",
    "import seaborn as sns\n",
    "import os\n",
    "import math\n",
    "import cv2\n",
    "from PIL import Image\n",
    "from scipy import misc\n",
    "from os import listdir\n",
    "from os.path import isfile, join\n",
    "from collections import Counter\n",
    "import matplotlib.pyplot as plt\n",
    "import tensorflow as tf"
   ]
  },
  {
   "cell_type": "code",
   "execution_count": 8,
   "metadata": {},
   "outputs": [],
   "source": [
    "from keras.models import Sequential,Input,Model\n",
    "from keras.layers import Conv2D\n",
    "from keras.layers import MaxPooling2D,AveragePooling2D\n",
    "from keras.layers import Flatten,LeakyReLU\n",
    "from keras.layers import Dense,Dropout,BatchNormalization"
   ]
  },
  {
   "cell_type": "code",
   "execution_count": 9,
   "metadata": {},
   "outputs": [],
   "source": [
    "classifier = Sequential()\n",
    "\n",
    "# Step 1 - Convolution\n",
    "classifier.add(Conv2D(filters=64, kernel_size=2, padding='same', activation='relu', input_shape=(64,64,3)))\n",
    "classifier.add(BatchNormalization())\n",
    "\n",
    "# Step 2 - Pooling\n",
    "classifier.add(MaxPooling2D(pool_size = (2, 2)))\n",
    "classifier.add(BatchNormalization())\n",
    "\n",
    "# Adding a second convolutional layer\n",
    "classifier.add(Conv2D(filters=32,kernel_size=2,padding='same',activation='tanh'))\n",
    "classifier.add(MaxPooling2D(pool_size =(2,2)))\n",
    "classifier.add(BatchNormalization())\n",
    "\n",
    "\n",
    "# Adding a third convolutional layer\n",
    "classifier.add(Conv2D(filters=16,kernel_size=2,padding='same',activation='tanh'))\n",
    "classifier.add(MaxPooling2D(pool_size = (2, 2)))\n",
    "classifier.add(BatchNormalization())\n",
    "\n",
    "# Step 3 - Flattening\n",
    "classifier.add(Flatten())\n",
    "\n",
    "# Step 4 - Full connection\n",
    "classifier.add(Dense(units=32,activation = 'tanh'))\n",
    "classifier.add(Dense(units=64,activation = 'tanh'))\n",
    "classifier.add(Dropout(0.5))\n",
    "classifier.add(Dense(units=128,activation = 'tanh'))\n",
    "classifier.add(Dropout(0.5))\n",
    "classifier.add(Dense(units=256,activation = 'tanh'))\n",
    "classifier.add(Dropout(0.5))\n",
    "classifier.add(Dense(units = 8,activation = 'softmax'))"
   ]
  },
  {
   "cell_type": "code",
   "execution_count": 10,
   "metadata": {},
   "outputs": [],
   "source": [
    "#model = Model(inputs=inputs, outputs=[age_model,gender_model])\n",
    "#classifier.compile(optimizer = 'adam', loss =['categorical_crossentropy'],metrics=['accuracy'])\n",
    "classifier.compile(optimizer='rmsprop', loss=['categorical_crossentropy'], metrics=['accuracy'])"
   ]
  },
  {
   "cell_type": "code",
   "execution_count": 11,
   "metadata": {},
   "outputs": [
    {
     "name": "stdout",
     "output_type": "stream",
     "text": [
      "\n",
      "Training the data...\n",
      "\n",
      "Found 18896 images belonging to 8 classes.\n",
      "Found 2702 images belonging to 8 classes.\n"
     ]
    }
   ],
   "source": [
    "from keras.preprocessing.image import ImageDataGenerator\n",
    "\n",
    "train_datagen = ImageDataGenerator(rescale = 1./255,\n",
    "                                   shear_range = 0.2,\n",
    "                                   zoom_range = 0.2,\n",
    "                                   horizontal_flip = True)\n",
    "test_datagen =  ImageDataGenerator(rescale = 1./255)\n",
    "\n",
    "print(\"\\nTraining the data...\\n\")\n",
    "\n",
    "training_set = train_datagen.flow_from_directory(r'C:\\Users\\sathe\\Satheesh_SK\\No_Need\\Sample_Data\\Training',\n",
    "                                                 target_size = (64, 64),\n",
    "                                                 batch_size = 12,                                       \n",
    "                                                 class_mode = 'categorical')\n",
    "\n",
    "\n",
    "test_set = test_datagen.flow_from_directory(r'C:\\Users\\sathe\\Satheesh_SK\\No_Need\\Sample_Data\\Testing',\n",
    "                                            target_size = (64, 64),\n",
    "                                            batch_size=12,\n",
    "                                            class_mode = 'categorical')"
   ]
  },
  {
   "cell_type": "code",
   "execution_count": 12,
   "metadata": {},
   "outputs": [
    {
     "name": "stdout",
     "output_type": "stream",
     "text": [
      "Epoch 1/20\n",
      "600/600 [==============================] - 66s 108ms/step - loss: 1.9846 - accuracy: 0.3012 - val_loss: 1.8833 - val_accuracy: 0.3267\n",
      "Epoch 2/20\n",
      "600/600 [==============================] - 63s 104ms/step - loss: 1.5955 - accuracy: 0.4373 - val_loss: 1.6704 - val_accuracy: 0.4033\n",
      "Epoch 3/20\n",
      "600/600 [==============================] - 64s 106ms/step - loss: 1.4226 - accuracy: 0.4852 - val_loss: 1.8251 - val_accuracy: 0.3667\n",
      "Epoch 4/20\n",
      "600/600 [==============================] - 64s 106ms/step - loss: 1.3576 - accuracy: 0.5003 - val_loss: 1.7987 - val_accuracy: 0.4250\n",
      "Epoch 5/20\n",
      "600/600 [==============================] - 68s 114ms/step - loss: 1.2767 - accuracy: 0.5433 - val_loss: 1.3012 - val_accuracy: 0.5217\n",
      "Epoch 6/20\n",
      "600/600 [==============================] - 70s 114ms/step - loss: 1.2232 - accuracy: 0.5556 - val_loss: 1.6153 - val_accuracy: 0.4133\n",
      "Epoch 7/20\n",
      "600/600 [==============================] - 70s 115ms/step - loss: 1.2136 - accuracy: 0.5549 - val_loss: 1.2522 - val_accuracy: 0.5133\n",
      "Epoch 8/20\n",
      "600/600 [==============================] - 69s 114ms/step - loss: 1.1740 - accuracy: 0.5643 - val_loss: 1.6936 - val_accuracy: 0.4117\n",
      "Epoch 9/20\n",
      "600/600 [==============================] - 69s 114ms/step - loss: 1.2011 - accuracy: 0.5568 - val_loss: 1.2825 - val_accuracy: 0.5217\n",
      "Epoch 10/20\n",
      "600/600 [==============================] - 70s 115ms/step - loss: 1.1562 - accuracy: 0.5722 - val_loss: 1.1889 - val_accuracy: 0.5617\n",
      "Epoch 11/20\n",
      "600/600 [==============================] - 69s 113ms/step - loss: 1.1467 - accuracy: 0.5703 - val_loss: 1.1925 - val_accuracy: 0.5383\n",
      "Epoch 12/20\n",
      "600/600 [==============================] - 70s 115ms/step - loss: 1.1245 - accuracy: 0.5836 - val_loss: 1.4922 - val_accuracy: 0.4783\n",
      "Epoch 13/20\n",
      "600/600 [==============================] - 69s 114ms/step - loss: 1.1341 - accuracy: 0.5788 - val_loss: 1.5034 - val_accuracy: 0.4283\n",
      "Epoch 14/20\n",
      "600/600 [==============================] - 69s 114ms/step - loss: 1.1050 - accuracy: 0.5927 - val_loss: 1.2249 - val_accuracy: 0.5200\n",
      "Epoch 15/20\n",
      "600/600 [==============================] - 69s 113ms/step - loss: 1.1399 - accuracy: 0.5758 - val_loss: 1.1687 - val_accuracy: 0.5300\n",
      "Epoch 16/20\n",
      "600/600 [==============================] - 69s 113ms/step - loss: 1.0879 - accuracy: 0.5843 - val_loss: 1.3028 - val_accuracy: 0.4883\n",
      "Epoch 17/20\n",
      "600/600 [==============================] - 68s 112ms/step - loss: 1.0875 - accuracy: 0.5998 - val_loss: 1.2802 - val_accuracy: 0.4933\n",
      "Epoch 18/20\n",
      "600/600 [==============================] - 69s 113ms/step - loss: 1.1012 - accuracy: 0.5816 - val_loss: 1.2748 - val_accuracy: 0.5083\n",
      "Epoch 19/20\n",
      "600/600 [==============================] - 68s 112ms/step - loss: 1.0875 - accuracy: 0.6059 - val_loss: 1.3434 - val_accuracy: 0.5300\n",
      "Epoch 20/20\n",
      "600/600 [==============================] - 68s 112ms/step - loss: 1.0844 - accuracy: 0.5897 - val_loss: 1.3168 - val_accuracy: 0.4917\n"
     ]
    }
   ],
   "source": [
    "model = classifier.fit_generator(training_set,\n",
    "                                 steps_per_epoch=600,\n",
    "                                 epochs = 20,\n",
    "                                 validation_data = test_set,    \n",
    "                                 validation_steps = 50)"
   ]
  },
  {
   "cell_type": "code",
   "execution_count": 13,
   "metadata": {},
   "outputs": [],
   "source": [
    "model=classifier.save('multiclass_model1.h5')"
   ]
  },
  {
   "cell_type": "code",
   "execution_count": 14,
   "metadata": {},
   "outputs": [
    {
     "data": {
      "text/plain": [
       "(18896, 8, array([0, 0, 0, ..., 7, 7, 7]), 18896)"
      ]
     },
     "execution_count": 14,
     "metadata": {},
     "output_type": "execute_result"
    }
   ],
   "source": [
    "train_samples = len(training_set.filenames)\n",
    "train_labels = training_set.classes \n",
    "num_classes = len(training_set.class_indices)\n",
    "train_samples,num_classes,train_labels,len(train_labels)"
   ]
  },
  {
   "cell_type": "code",
   "execution_count": 15,
   "metadata": {},
   "outputs": [
    {
     "data": {
      "text/plain": [
       "(2702, 8, array([0, 0, 0, ..., 7, 7, 7]))"
      ]
     },
     "execution_count": 15,
     "metadata": {},
     "output_type": "execute_result"
    }
   ],
   "source": [
    "test_samples = len(test_set.filenames)\n",
    "test_labels = test_set.classes \n",
    "num_classes = len(test_set.class_indices)\n",
    "test_samples,num_classes,test_labels"
   ]
  },
  {
   "cell_type": "code",
   "execution_count": 16,
   "metadata": {},
   "outputs": [
    {
     "name": "stdout",
     "output_type": "stream",
     "text": [
      "226/226 [==============================] - 5s 18ms/step - loss: 1.3253 - accuracy: 0.4778\n"
     ]
    }
   ],
   "source": [
    "(eval_loss, eval_accuracy) = classifier.evaluate(test_set, batch_size=50,verbose=1)"
   ]
  },
  {
   "cell_type": "code",
   "execution_count": 17,
   "metadata": {},
   "outputs": [
    {
     "name": "stdout",
     "output_type": "stream",
     "text": [
      "Predictions: [0. 0. 1. 0. 0. 0. 0. 0.]\n"
     ]
    }
   ],
   "source": [
    "preds=classifier.predict(test_set,test_labels)\n",
    "print('Predictions:',np.round(preds)[1])"
   ]
  },
  {
   "cell_type": "markdown",
   "metadata": {},
   "source": [
    "# New Prediction for Face and Age:"
   ]
  },
  {
   "cell_type": "code",
   "execution_count": 18,
   "metadata": {},
   "outputs": [],
   "source": [
    "from keras.preprocessing import image\n",
    "from PIL import Image\n",
    "from keras.models import load_model\n",
    "age_model = load_model('age_model.h5')"
   ]
  },
  {
   "cell_type": "code",
   "execution_count": 19,
   "metadata": {},
   "outputs": [],
   "source": [
    "import imutils\n",
    "path=r'C:\\Users\\sathe\\Satheesh_SK\\No_Need\\Sample_Data\\Testing\\MiddleAgeMen\\26_0_2_20170116175516176.jpg.chip.jpg'\n",
    "image = cv2.imread(path)\n",
    "output = imutils.resize(image, width=400)\n",
    "\n",
    "# pre-process the image for classification\n",
    "image = cv2.resize(image, (64, 64))\n",
    "image = image.astype(\"float\") / 255.0\n",
    "image = tf.keras.preprocessing.image.img_to_array(image)\n",
    "image = np.expand_dims(image, axis=0)"
   ]
  },
  {
   "cell_type": "code",
   "execution_count": 20,
   "metadata": {},
   "outputs": [
    {
     "data": {
      "text/plain": [
       "array([4, 5, 1, 0, 2, 6, 3, 7], dtype=int64)"
      ]
     },
     "execution_count": 20,
     "metadata": {},
     "output_type": "execute_result"
    }
   ],
   "source": [
    "#mlb = pickle.loads(open(args[\"labelbin\"], \"rb\").read())\n",
    "proba = classifier.predict(image)[0]\n",
    "idxs = np.argsort(proba,axis=0)\n",
    "idxs"
   ]
  },
  {
   "cell_type": "code",
   "execution_count": 38,
   "metadata": {},
   "outputs": [
    {
     "data": {
      "text/plain": [
       "array([0.01824107, 0.00830903, 0.04619066, 0.08915819, 0.00189908,\n",
       "       0.00521638, 0.05110139, 0.77988416], dtype=float32)"
      ]
     },
     "execution_count": 38,
     "metadata": {},
     "output_type": "execute_result"
    }
   ],
   "source": [
    "proba"
   ]
  },
  {
   "cell_type": "code",
   "execution_count": 21,
   "metadata": {},
   "outputs": [
    {
     "data": {
      "text/plain": [
       "array([40])"
      ]
     },
     "execution_count": 21,
     "metadata": {},
     "output_type": "execute_result"
    }
   ],
   "source": [
    "age_proba=age_model.predict(image)[0].astype(int)\n",
    "age_proba"
   ]
  },
  {
   "cell_type": "code",
   "execution_count": 25,
   "metadata": {},
   "outputs": [
    {
     "data": {
      "text/plain": [
       "{'FemaleChild': 0,\n",
       " 'MaleChild': 1,\n",
       " 'MiddleAgeMen': 2,\n",
       " 'MiddleAgeWomen': 3,\n",
       " 'OldAgeMen': 4,\n",
       " 'OldWomen': 5,\n",
       " 'YoungMen': 6,\n",
       " 'YoungWomen': 7}"
      ]
     },
     "execution_count": 25,
     "metadata": {},
     "output_type": "execute_result"
    }
   ],
   "source": [
    "labels=training_set.class_indices\n",
    "labels"
   ]
  },
  {
   "cell_type": "code",
   "execution_count": 26,
   "metadata": {},
   "outputs": [
    {
     "data": {
      "text/plain": [
       "{0: 'FemaleChild',\n",
       " 1: 'MaleChild',\n",
       " 2: 'MiddleAgeMen',\n",
       " 3: 'MiddleAgeWomen',\n",
       " 4: 'OldAgeMen',\n",
       " 5: 'OldWomen',\n",
       " 6: 'YoungMen',\n",
       " 7: 'YoungWomen'}"
      ]
     },
     "execution_count": 26,
     "metadata": {},
     "output_type": "execute_result"
    }
   ],
   "source": [
    "inv_map = {v:k for k, v in labels.items()} \n",
    "inv_map"
   ]
  },
  {
   "cell_type": "code",
   "execution_count": 28,
   "metadata": {},
   "outputs": [
    {
     "name": "stderr",
     "output_type": "stream",
     "text": [
      "C:\\Users\\sathe\\anaconda3\\lib\\site-packages\\tensorflow\\python\\keras\\engine\\sequential.py:450: UserWarning: `model.predict_classes()` is deprecated and will be removed after 2021-01-01. Please use instead:* `np.argmax(model.predict(x), axis=-1)`,   if your model does multi-class classification   (e.g. if it uses a `softmax` last-layer activation).* `(model.predict(x) > 0.5).astype(\"int32\")`,   if your model does binary classification   (e.g. if it uses a `sigmoid` last-layer activation).\n",
      "  warnings.warn('`model.predict_classes()` is deprecated and '\n"
     ]
    },
    {
     "name": "stdout",
     "output_type": "stream",
     "text": [
      "ID: 7, Predicted Gender: YoungWomen Age :40 \n"
     ]
    }
   ],
   "source": [
    "class_predicted = classifier.predict_classes(image)\n",
    "print(\"ID: {}, Predicted Gender: {} Age :{} \".format(class_predicted[0],  inv_map[class_predicted[0]],age_proba[0]))"
   ]
  },
  {
   "cell_type": "code",
   "execution_count": 37,
   "metadata": {},
   "outputs": [
    {
     "name": "stdout",
     "output_type": "stream",
     "text": [
      "226/226 [==============================] - 24s 86ms/step - loss: 1.3253 - accuracy: 0.4778\n"
     ]
    }
   ],
   "source": [
    "(eval_loss, eval_accuracy) = classifier.evaluate(test_set, batch_size=50,verbose=1)"
   ]
  },
  {
   "cell_type": "code",
   "execution_count": null,
   "metadata": {},
   "outputs": [],
   "source": []
  }
 ],
 "metadata": {
  "kernelspec": {
   "display_name": "Python 3",
   "language": "python",
   "name": "python3"
  },
  "language_info": {
   "codemirror_mode": {
    "name": "ipython",
    "version": 3
   },
   "file_extension": ".py",
   "mimetype": "text/x-python",
   "name": "python",
   "nbconvert_exporter": "python",
   "pygments_lexer": "ipython3",
   "version": "3.8.5"
  }
 },
 "nbformat": 4,
 "nbformat_minor": 4
}
